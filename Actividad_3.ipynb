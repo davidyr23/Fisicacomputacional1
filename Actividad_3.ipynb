{
  "nbformat": 4,
  "nbformat_minor": 0,
  "metadata": {
    "colab": {
      "name": "Actividad 3.ipynb",
      "provenance": [],
      "authorship_tag": "ABX9TyNMzaKc3UQGepmiZxyURgyG",
      "include_colab_link": true
    },
    "kernelspec": {
      "name": "python3",
      "display_name": "Python 3"
    }
  },
  "cells": [
    {
      "cell_type": "markdown",
      "metadata": {
        "id": "view-in-github",
        "colab_type": "text"
      },
      "source": [
        "<a href=\"https://colab.research.google.com/github/davidyr23/Fisicacomputacional1/blob/master/Actividad_3.ipynb\" target=\"_parent\"><img src=\"https://colab.research.google.com/assets/colab-badge.svg\" alt=\"Open In Colab\"/></a>"
      ]
    },
    {
      "cell_type": "markdown",
      "metadata": {
        "id": "Udj7Uc02rhq6"
      },
      "source": [
        "#**Actividad 3 del curso de Física Computacional 1**"
      ]
    },
    {
      "cell_type": "markdown",
      "metadata": {
        "id": "TBF78RWRy9rA"
      },
      "source": [
        "Primero importamos la biblioteca Numpy y Pandas, primero creamos una variable \r\n",
        "donde guardamos nuestra dirección URL, donde se encuentran los datos que vamos a utilizar. Creamos un DataFrame **df** que se alimenta de nuestro archivo en la dirección URL, como no conocemos la cantidad de renglones que no nos interesan, imprimimos el encabezado y final del dataframe utilizamos las operaciones **df.head** y **df.tail** para visualizar mejor la cantidad de renglones que vamos a omitir de manera que solamente estaremos trabajando con los datos relevantes.\r\n",
        "\r\n"
      ]
    },
    {
      "cell_type": "code",
      "metadata": {
        "colab": {
          "base_uri": "https://localhost:8080/"
        },
        "id": "9FawaDlurvq0",
        "outputId": "616382e9-f6c2-408f-a67c-5c4db3d7b50e"
      },
      "source": [
        "import numpy as np\r\n",
        "import pandas as pd\r\n",
        "\r\n",
        "url = \"https://raw.githubusercontent.com/davidyr23/Fisicacomputacional1/master/Actividad1/climatologiaBadiraguato.txt\"\r\n",
        "\r\n",
        "df_badiraguato = pd.read_csv(url)\r\n",
        "\r\n",
        "print(df_badiraguato.head(20))\r\n",
        "print(df_badiraguato.tail())\r\n"
      ],
      "execution_count": 2,
      "outputs": [
        {
          "output_type": "stream",
          "text": [
            "                     CNA-SMN-CG-GMC-SMAA-CLIMATOLOGIA\n",
            "0                         BASE DE DATOS CLIMATOLOGICA\n",
            "1   DATOS DISPONIBLES EN LA BASE DE DATOS A MARZO ...\n",
            "2                                   ESTACION  : 25110\n",
            "3                       NOMBRE    : BADIRAGUATO (DGE)\n",
            "4                                 ESTADO    : SINALOA\n",
            "5                             MUNICIPIO : BADIRAGUATO\n",
            "6                                SITUACI�N : OPERANDO\n",
            "7                             ORGANISMO : CONAGUA-DGE\n",
            "8                                    CVE-OMM   : Nulo\n",
            "9                                LATITUD   : 025.342�\n",
            "10                              LONGITUD  : -107.543�\n",
            "11                               ALTITUD   : 191 msnm\n",
            "12                            EMISION   : 06/04/2020 \n",
            "13                         PRECIP  EVAP   TMAX   TMIN\n",
            "14                FECHA     (MM)   (MM)   (�C)   (�C)\n",
            "15               01/01/1960  0     Nulo   Nulo   Nulo\n",
            "16               02/01/1960  0     Nulo   Nulo   Nulo\n",
            "17               03/01/1960  6     Nulo   Nulo   Nulo\n",
            "18               04/01/1960  30    Nulo   Nulo   Nulo\n",
            "19               05/01/1960  0     Nulo   Nulo   Nulo\n",
            "             CNA-SMN-CG-GMC-SMAA-CLIMATOLOGIA\n",
            "19194    27/04/2018  0     Nulo    39     15 \n",
            "19195    28/04/2018  0     Nulo    36     16 \n",
            "19196    29/04/2018  0     Nulo    36     16 \n",
            "19197    30/04/2018  0     Nulo    37     13 \n",
            "19198  --------------------------------------\n"
          ],
          "name": "stdout"
        }
      ]
    },
    {
      "cell_type": "markdown",
      "metadata": {
        "id": "sU52VT7Y11EB"
      },
      "source": [
        "Ahora sabemos que tenemos que omitir los primeros 15 renglones y el último renglón ya que no son datos relevantes, también generamos una lista con los nombres de las columnas que conforman nuestros datos."
      ]
    },
    {
      "cell_type": "code",
      "metadata": {
        "colab": {
          "base_uri": "https://localhost:8080/"
        },
        "id": "2WPWvaHZ0rGD",
        "outputId": "efcf1271-bebe-44e8-e627-c159ed40342e"
      },
      "source": [
        "url = \"https://raw.githubusercontent.com/davidyr23/Fisicacomputacional1/master/Actividad1/climatologiaBadiraguato.txt\"\r\n",
        "\r\n",
        "#Se nombran las columnas del df\r\n",
        "columnas = ['Fecha', 'Precip', 'Evap', 'Tmax', 'Tmin']\r\n",
        "\r\n",
        "# El archivo tiene códigos ASCII extendido (Español), encoding='cp1251' Windows (Europa Occidental)\r\n",
        "# El separador de datos es de uno o más espacios, sep='\\s+'\r\n",
        "# Se brincará los primeros 19 renglones y el último (skiprows), afirmamos que no nay encabezado (header=None)\r\n",
        "# Se procesan los datos utilizando Python, engine='python' \r\n",
        "\r\n",
        "df_badiraguato = pd.read_csv(url, names=columnas, encoding='cp1251', sep='\\s+', header=None, skiprows=19, skipfooter=1, engine='python')\r\n",
        "\r\n",
        "print(df_badiraguato.head())\r\n",
        "print(df_badiraguato.tail())"
      ],
      "execution_count": 4,
      "outputs": [
        {
          "output_type": "stream",
          "text": [
            "        Fecha Precip  Evap  Tmax  Tmin\n",
            "0  01/01/1960      0  Nulo  Nulo  Nulo\n",
            "1  02/01/1960      0  Nulo  Nulo  Nulo\n",
            "2  03/01/1960      6  Nulo  Nulo  Nulo\n",
            "3  04/01/1960     30  Nulo  Nulo  Nulo\n",
            "4  05/01/1960      0  Nulo  Nulo  Nulo\n",
            "            Fecha Precip  Evap Tmax Tmin\n",
            "19178  26/04/2018      0  Nulo   41   14\n",
            "19179  27/04/2018      0  Nulo   39   15\n",
            "19180  28/04/2018      0  Nulo   36   16\n",
            "19181  29/04/2018      0  Nulo   36   16\n",
            "19182  30/04/2018      0  Nulo   37   13\n"
          ],
          "name": "stdout"
        }
      ]
    },
    {
      "cell_type": "markdown",
      "metadata": {
        "id": "On05irqUpZhb"
      },
      "source": [
        "Para observar la dimensión de los datos y obtener la información de los mismos, utilizamos las funciones **df.shape** y **df.info**, respectivamente."
      ]
    },
    {
      "cell_type": "code",
      "metadata": {
        "colab": {
          "base_uri": "https://localhost:8080/"
        },
        "id": "52bDPJmG5Gal",
        "outputId": "7d5b30cb-af82-408c-d925-378a7416af82"
      },
      "source": [
        "#Observamos la dimensión de los datos\r\n",
        "df_badiraguato.shape\r\n",
        "\r\n",
        "#Ahora observamos la información de los datos\r\n",
        "df_badiraguato.info()"
      ],
      "execution_count": 5,
      "outputs": [
        {
          "output_type": "stream",
          "text": [
            "<class 'pandas.core.frame.DataFrame'>\n",
            "RangeIndex: 19183 entries, 0 to 19182\n",
            "Data columns (total 5 columns):\n",
            " #   Column  Non-Null Count  Dtype \n",
            "---  ------  --------------  ----- \n",
            " 0   Fecha   19183 non-null  object\n",
            " 1   Precip  19183 non-null  object\n",
            " 2   Evap    19183 non-null  object\n",
            " 3   Tmax    19183 non-null  object\n",
            " 4   Tmin    19183 non-null  object\n",
            "dtypes: object(5)\n",
            "memory usage: 749.5+ KB\n"
          ],
          "name": "stdout"
        }
      ]
    },
    {
      "cell_type": "markdown",
      "metadata": {
        "id": "cUA3KCJkqBFu"
      },
      "source": [
        "Desarrollaremos una copia de la base de datos original para trabajar con ella y no perder la original utilizando la función **df.copy**."
      ]
    },
    {
      "cell_type": "code",
      "metadata": {
        "colab": {
          "base_uri": "https://localhost:8080/",
          "height": 196
        },
        "id": "o0LtwZABpt0A",
        "outputId": "e0c0c008-e157-477f-a61a-942339cab448"
      },
      "source": [
        "# Realizamos una copia de nuestra base de datos original para que no se pierda\r\n",
        "df_copia=df_badiraguato.copy()\r\n",
        "df_copia.head()"
      ],
      "execution_count": 10,
      "outputs": [
        {
          "output_type": "execute_result",
          "data": {
            "text/html": [
              "<div>\n",
              "<style scoped>\n",
              "    .dataframe tbody tr th:only-of-type {\n",
              "        vertical-align: middle;\n",
              "    }\n",
              "\n",
              "    .dataframe tbody tr th {\n",
              "        vertical-align: top;\n",
              "    }\n",
              "\n",
              "    .dataframe thead th {\n",
              "        text-align: right;\n",
              "    }\n",
              "</style>\n",
              "<table border=\"1\" class=\"dataframe\">\n",
              "  <thead>\n",
              "    <tr style=\"text-align: right;\">\n",
              "      <th></th>\n",
              "      <th>Fecha</th>\n",
              "      <th>Precip</th>\n",
              "      <th>Evap</th>\n",
              "      <th>Tmax</th>\n",
              "      <th>Tmin</th>\n",
              "    </tr>\n",
              "  </thead>\n",
              "  <tbody>\n",
              "    <tr>\n",
              "      <th>0</th>\n",
              "      <td>01/01/1960</td>\n",
              "      <td>0</td>\n",
              "      <td>Nulo</td>\n",
              "      <td>Nulo</td>\n",
              "      <td>Nulo</td>\n",
              "    </tr>\n",
              "    <tr>\n",
              "      <th>1</th>\n",
              "      <td>02/01/1960</td>\n",
              "      <td>0</td>\n",
              "      <td>Nulo</td>\n",
              "      <td>Nulo</td>\n",
              "      <td>Nulo</td>\n",
              "    </tr>\n",
              "    <tr>\n",
              "      <th>2</th>\n",
              "      <td>03/01/1960</td>\n",
              "      <td>6</td>\n",
              "      <td>Nulo</td>\n",
              "      <td>Nulo</td>\n",
              "      <td>Nulo</td>\n",
              "    </tr>\n",
              "    <tr>\n",
              "      <th>3</th>\n",
              "      <td>04/01/1960</td>\n",
              "      <td>30</td>\n",
              "      <td>Nulo</td>\n",
              "      <td>Nulo</td>\n",
              "      <td>Nulo</td>\n",
              "    </tr>\n",
              "    <tr>\n",
              "      <th>4</th>\n",
              "      <td>05/01/1960</td>\n",
              "      <td>0</td>\n",
              "      <td>Nulo</td>\n",
              "      <td>Nulo</td>\n",
              "      <td>Nulo</td>\n",
              "    </tr>\n",
              "  </tbody>\n",
              "</table>\n",
              "</div>"
            ],
            "text/plain": [
              "        Fecha Precip  Evap  Tmax  Tmin\n",
              "0  01/01/1960      0  Nulo  Nulo  Nulo\n",
              "1  02/01/1960      0  Nulo  Nulo  Nulo\n",
              "2  03/01/1960      6  Nulo  Nulo  Nulo\n",
              "3  04/01/1960     30  Nulo  Nulo  Nulo\n",
              "4  05/01/1960      0  Nulo  Nulo  Nulo"
            ]
          },
          "metadata": {
            "tags": []
          },
          "execution_count": 10
        }
      ]
    },
    {
      "cell_type": "markdown",
      "metadata": {
        "id": "6yTnb9tcqadE"
      },
      "source": [
        "Reemplazamos los textos que dicen \"Nulo\" de nuestra base de datos por espacios en blanco utilizando la función **df.replace**."
      ]
    },
    {
      "cell_type": "code",
      "metadata": {
        "colab": {
          "base_uri": "https://localhost:8080/",
          "height": 196
        },
        "id": "TB2f5F1UqkH-",
        "outputId": "b3be9e21-349a-461f-ddc1-1756a5a82cb2"
      },
      "source": [
        "#Reemplazamos los textos que dicen 'Nulo' por espacios en blanco\r\n",
        "str_Nulo = 'Nulo'\r\n",
        "df_copia = df_copia.replace(to_replace=str_Nulo, value='', regex=True)\r\n",
        "df_copia.head()"
      ],
      "execution_count": 11,
      "outputs": [
        {
          "output_type": "execute_result",
          "data": {
            "text/html": [
              "<div>\n",
              "<style scoped>\n",
              "    .dataframe tbody tr th:only-of-type {\n",
              "        vertical-align: middle;\n",
              "    }\n",
              "\n",
              "    .dataframe tbody tr th {\n",
              "        vertical-align: top;\n",
              "    }\n",
              "\n",
              "    .dataframe thead th {\n",
              "        text-align: right;\n",
              "    }\n",
              "</style>\n",
              "<table border=\"1\" class=\"dataframe\">\n",
              "  <thead>\n",
              "    <tr style=\"text-align: right;\">\n",
              "      <th></th>\n",
              "      <th>Fecha</th>\n",
              "      <th>Precip</th>\n",
              "      <th>Evap</th>\n",
              "      <th>Tmax</th>\n",
              "      <th>Tmin</th>\n",
              "    </tr>\n",
              "  </thead>\n",
              "  <tbody>\n",
              "    <tr>\n",
              "      <th>0</th>\n",
              "      <td>01/01/1960</td>\n",
              "      <td>0</td>\n",
              "      <td></td>\n",
              "      <td></td>\n",
              "      <td></td>\n",
              "    </tr>\n",
              "    <tr>\n",
              "      <th>1</th>\n",
              "      <td>02/01/1960</td>\n",
              "      <td>0</td>\n",
              "      <td></td>\n",
              "      <td></td>\n",
              "      <td></td>\n",
              "    </tr>\n",
              "    <tr>\n",
              "      <th>2</th>\n",
              "      <td>03/01/1960</td>\n",
              "      <td>6</td>\n",
              "      <td></td>\n",
              "      <td></td>\n",
              "      <td></td>\n",
              "    </tr>\n",
              "    <tr>\n",
              "      <th>3</th>\n",
              "      <td>04/01/1960</td>\n",
              "      <td>30</td>\n",
              "      <td></td>\n",
              "      <td></td>\n",
              "      <td></td>\n",
              "    </tr>\n",
              "    <tr>\n",
              "      <th>4</th>\n",
              "      <td>05/01/1960</td>\n",
              "      <td>0</td>\n",
              "      <td></td>\n",
              "      <td></td>\n",
              "      <td></td>\n",
              "    </tr>\n",
              "  </tbody>\n",
              "</table>\n",
              "</div>"
            ],
            "text/plain": [
              "        Fecha Precip Evap Tmax Tmin\n",
              "0  01/01/1960      0               \n",
              "1  02/01/1960      0               \n",
              "2  03/01/1960      6               \n",
              "3  04/01/1960     30               \n",
              "4  05/01/1960      0               "
            ]
          },
          "metadata": {
            "tags": []
          },
          "execution_count": 11
        }
      ]
    },
    {
      "cell_type": "markdown",
      "metadata": {
        "id": "1TRXAr1FqoPn"
      },
      "source": [
        "Ahora imprimimos la información actualizada utilizando la función **df.info**."
      ]
    },
    {
      "cell_type": "code",
      "metadata": {
        "colab": {
          "base_uri": "https://localhost:8080/"
        },
        "id": "3zIlBGx7qo2y",
        "outputId": "8c7aaa84-0e0b-4f2a-a34c-81e49b358308"
      },
      "source": [
        "#Se imprime la información actualizada del df\r\n",
        "df_copia.info()\r\n",
        "print(df_copia.head())"
      ],
      "execution_count": 12,
      "outputs": [
        {
          "output_type": "stream",
          "text": [
            "<class 'pandas.core.frame.DataFrame'>\n",
            "RangeIndex: 19183 entries, 0 to 19182\n",
            "Data columns (total 5 columns):\n",
            " #   Column  Non-Null Count  Dtype \n",
            "---  ------  --------------  ----- \n",
            " 0   Fecha   19183 non-null  object\n",
            " 1   Precip  19183 non-null  object\n",
            " 2   Evap    19183 non-null  object\n",
            " 3   Tmax    19183 non-null  object\n",
            " 4   Tmin    19183 non-null  object\n",
            "dtypes: object(5)\n",
            "memory usage: 749.5+ KB\n",
            "        Fecha Precip Evap Tmax Tmin\n",
            "0  01/01/1960      0               \n",
            "1  02/01/1960      0               \n",
            "2  03/01/1960      6               \n",
            "3  04/01/1960     30               \n",
            "4  05/01/1960      0               \n"
          ],
          "name": "stdout"
        }
      ]
    },
    {
      "cell_type": "markdown",
      "metadata": {
        "id": "2z6QegGCqxAn"
      },
      "source": [
        "Después, convertimos los datos de la base de datos a valores numéricos para trabajar con ellos, para eso utilizamos la función **pd.to_numeric**."
      ]
    },
    {
      "cell_type": "code",
      "metadata": {
        "colab": {
          "base_uri": "https://localhost:8080/"
        },
        "id": "vcEXP1T3qxxt",
        "outputId": "cfe984ef-e5a6-41f3-d528-fca0359005f5"
      },
      "source": [
        "#Se procede a convertir los datos de la base de datos a valores numericos para poder trabajar con ellos\r\n",
        "columnas = ['Precip', 'Evap', 'Tmax', 'Tmin']\r\n",
        "for cols in columnas:\r\n",
        "  df_copia[cols] = pd.to_numeric(df_copia[cols], errors=\"coerce\")\r\n",
        "\r\n",
        "df_copia.info()"
      ],
      "execution_count": 13,
      "outputs": [
        {
          "output_type": "stream",
          "text": [
            "<class 'pandas.core.frame.DataFrame'>\n",
            "RangeIndex: 19183 entries, 0 to 19182\n",
            "Data columns (total 5 columns):\n",
            " #   Column  Non-Null Count  Dtype  \n",
            "---  ------  --------------  -----  \n",
            " 0   Fecha   19183 non-null  object \n",
            " 1   Precip  19138 non-null  float64\n",
            " 2   Evap    9777 non-null   float64\n",
            " 3   Tmax    18794 non-null  float64\n",
            " 4   Tmin    18792 non-null  float64\n",
            "dtypes: float64(4), object(1)\n",
            "memory usage: 749.5+ KB\n"
          ],
          "name": "stdout"
        }
      ]
    },
    {
      "cell_type": "markdown",
      "metadata": {
        "id": "dN5e0QTZq5pm"
      },
      "source": [
        "Para observar los datos que faltan utilizamos la función **df.isnull().sum()**."
      ]
    },
    {
      "cell_type": "code",
      "metadata": {
        "colab": {
          "base_uri": "https://localhost:8080/"
        },
        "id": "CeHpQ44yq6m2",
        "outputId": "2f528f27-3236-446c-8e46-56cc3f7fca41"
      },
      "source": [
        "#Observamos los datos que faltan\r\n",
        "df_copia.isnull().sum()"
      ],
      "execution_count": 14,
      "outputs": [
        {
          "output_type": "execute_result",
          "data": {
            "text/plain": [
              "Fecha        0\n",
              "Precip      45\n",
              "Evap      9406\n",
              "Tmax       389\n",
              "Tmin       391\n",
              "dtype: int64"
            ]
          },
          "metadata": {
            "tags": []
          },
          "execution_count": 14
        }
      ]
    },
    {
      "cell_type": "markdown",
      "metadata": {
        "id": "tPU4OKChq-oe"
      },
      "source": [
        "Imprimimos los primeros 5 renglones de la copia."
      ]
    },
    {
      "cell_type": "code",
      "metadata": {
        "colab": {
          "base_uri": "https://localhost:8080/"
        },
        "id": "ndruTH8qq-_f",
        "outputId": "7e4a623d-b806-41e3-f0ea-dcd6f59bb753"
      },
      "source": [
        "print(df_copia.head())"
      ],
      "execution_count": 15,
      "outputs": [
        {
          "output_type": "stream",
          "text": [
            "        Fecha  Precip  Evap  Tmax  Tmin\n",
            "0  01/01/1960     0.0   NaN   NaN   NaN\n",
            "1  02/01/1960     0.0   NaN   NaN   NaN\n",
            "2  03/01/1960     6.0   NaN   NaN   NaN\n",
            "3  04/01/1960    30.0   NaN   NaN   NaN\n",
            "4  05/01/1960     0.0   NaN   NaN   NaN\n"
          ],
          "name": "stdout"
        }
      ]
    },
    {
      "cell_type": "markdown",
      "metadata": {
        "id": "LHU888krrCL5"
      },
      "source": [
        "Realizamos un análisis estadístico redondeando los valores numéricos a 2 cifras utilizando la función **df.describe.round(2)**.\r\n"
      ]
    },
    {
      "cell_type": "code",
      "metadata": {
        "colab": {
          "base_uri": "https://localhost:8080/",
          "height": 286
        },
        "id": "ygi9kHz3rCtu",
        "outputId": "ccb20236-c094-4d86-841c-f521d148a3fb"
      },
      "source": [
        "#Análisis estadístico redondeando a 2 cifras\r\n",
        "df_copia.describe().round(2)"
      ],
      "execution_count": 16,
      "outputs": [
        {
          "output_type": "execute_result",
          "data": {
            "text/html": [
              "<div>\n",
              "<style scoped>\n",
              "    .dataframe tbody tr th:only-of-type {\n",
              "        vertical-align: middle;\n",
              "    }\n",
              "\n",
              "    .dataframe tbody tr th {\n",
              "        vertical-align: top;\n",
              "    }\n",
              "\n",
              "    .dataframe thead th {\n",
              "        text-align: right;\n",
              "    }\n",
              "</style>\n",
              "<table border=\"1\" class=\"dataframe\">\n",
              "  <thead>\n",
              "    <tr style=\"text-align: right;\">\n",
              "      <th></th>\n",
              "      <th>Precip</th>\n",
              "      <th>Evap</th>\n",
              "      <th>Tmax</th>\n",
              "      <th>Tmin</th>\n",
              "    </tr>\n",
              "  </thead>\n",
              "  <tbody>\n",
              "    <tr>\n",
              "      <th>count</th>\n",
              "      <td>19138.00</td>\n",
              "      <td>9777.00</td>\n",
              "      <td>18794.00</td>\n",
              "      <td>18792.00</td>\n",
              "    </tr>\n",
              "    <tr>\n",
              "      <th>mean</th>\n",
              "      <td>2.58</td>\n",
              "      <td>5.10</td>\n",
              "      <td>33.65</td>\n",
              "      <td>15.50</td>\n",
              "    </tr>\n",
              "    <tr>\n",
              "      <th>std</th>\n",
              "      <td>10.28</td>\n",
              "      <td>2.67</td>\n",
              "      <td>4.12</td>\n",
              "      <td>6.79</td>\n",
              "    </tr>\n",
              "    <tr>\n",
              "      <th>min</th>\n",
              "      <td>0.00</td>\n",
              "      <td>0.00</td>\n",
              "      <td>13.50</td>\n",
              "      <td>-5.00</td>\n",
              "    </tr>\n",
              "    <tr>\n",
              "      <th>25%</th>\n",
              "      <td>0.00</td>\n",
              "      <td>3.10</td>\n",
              "      <td>31.00</td>\n",
              "      <td>10.00</td>\n",
              "    </tr>\n",
              "    <tr>\n",
              "      <th>50%</th>\n",
              "      <td>0.00</td>\n",
              "      <td>4.50</td>\n",
              "      <td>34.00</td>\n",
              "      <td>15.00</td>\n",
              "    </tr>\n",
              "    <tr>\n",
              "      <th>75%</th>\n",
              "      <td>0.00</td>\n",
              "      <td>7.10</td>\n",
              "      <td>36.00</td>\n",
              "      <td>22.50</td>\n",
              "    </tr>\n",
              "    <tr>\n",
              "      <th>max</th>\n",
              "      <td>335.00</td>\n",
              "      <td>16.00</td>\n",
              "      <td>47.00</td>\n",
              "      <td>30.00</td>\n",
              "    </tr>\n",
              "  </tbody>\n",
              "</table>\n",
              "</div>"
            ],
            "text/plain": [
              "         Precip     Evap      Tmax      Tmin\n",
              "count  19138.00  9777.00  18794.00  18792.00\n",
              "mean       2.58     5.10     33.65     15.50\n",
              "std       10.28     2.67      4.12      6.79\n",
              "min        0.00     0.00     13.50     -5.00\n",
              "25%        0.00     3.10     31.00     10.00\n",
              "50%        0.00     4.50     34.00     15.00\n",
              "75%        0.00     7.10     36.00     22.50\n",
              "max      335.00    16.00     47.00     30.00"
            ]
          },
          "metadata": {
            "tags": []
          },
          "execution_count": 16
        }
      ]
    },
    {
      "cell_type": "markdown",
      "metadata": {
        "id": "1NqOoNDWrFR3"
      },
      "source": [
        "Ahora realizamos una nueva copia de seguridad utilizando nuevamente la función **df.copy**."
      ]
    },
    {
      "cell_type": "code",
      "metadata": {
        "colab": {
          "base_uri": "https://localhost:8080/",
          "height": 404
        },
        "id": "B8PdWWa9rF09",
        "outputId": "75344d49-e823-4fd2-88e3-aca67ba5417d"
      },
      "source": [
        "#Nueva copia de seguridad\r\n",
        "df_copiaseguridad = df_copia.copy()\r\n",
        "df_copiaseguridad"
      ],
      "execution_count": 17,
      "outputs": [
        {
          "output_type": "execute_result",
          "data": {
            "text/html": [
              "<div>\n",
              "<style scoped>\n",
              "    .dataframe tbody tr th:only-of-type {\n",
              "        vertical-align: middle;\n",
              "    }\n",
              "\n",
              "    .dataframe tbody tr th {\n",
              "        vertical-align: top;\n",
              "    }\n",
              "\n",
              "    .dataframe thead th {\n",
              "        text-align: right;\n",
              "    }\n",
              "</style>\n",
              "<table border=\"1\" class=\"dataframe\">\n",
              "  <thead>\n",
              "    <tr style=\"text-align: right;\">\n",
              "      <th></th>\n",
              "      <th>Fecha</th>\n",
              "      <th>Precip</th>\n",
              "      <th>Evap</th>\n",
              "      <th>Tmax</th>\n",
              "      <th>Tmin</th>\n",
              "    </tr>\n",
              "  </thead>\n",
              "  <tbody>\n",
              "    <tr>\n",
              "      <th>0</th>\n",
              "      <td>01/01/1960</td>\n",
              "      <td>0.0</td>\n",
              "      <td>NaN</td>\n",
              "      <td>NaN</td>\n",
              "      <td>NaN</td>\n",
              "    </tr>\n",
              "    <tr>\n",
              "      <th>1</th>\n",
              "      <td>02/01/1960</td>\n",
              "      <td>0.0</td>\n",
              "      <td>NaN</td>\n",
              "      <td>NaN</td>\n",
              "      <td>NaN</td>\n",
              "    </tr>\n",
              "    <tr>\n",
              "      <th>2</th>\n",
              "      <td>03/01/1960</td>\n",
              "      <td>6.0</td>\n",
              "      <td>NaN</td>\n",
              "      <td>NaN</td>\n",
              "      <td>NaN</td>\n",
              "    </tr>\n",
              "    <tr>\n",
              "      <th>3</th>\n",
              "      <td>04/01/1960</td>\n",
              "      <td>30.0</td>\n",
              "      <td>NaN</td>\n",
              "      <td>NaN</td>\n",
              "      <td>NaN</td>\n",
              "    </tr>\n",
              "    <tr>\n",
              "      <th>4</th>\n",
              "      <td>05/01/1960</td>\n",
              "      <td>0.0</td>\n",
              "      <td>NaN</td>\n",
              "      <td>NaN</td>\n",
              "      <td>NaN</td>\n",
              "    </tr>\n",
              "    <tr>\n",
              "      <th>...</th>\n",
              "      <td>...</td>\n",
              "      <td>...</td>\n",
              "      <td>...</td>\n",
              "      <td>...</td>\n",
              "      <td>...</td>\n",
              "    </tr>\n",
              "    <tr>\n",
              "      <th>19178</th>\n",
              "      <td>26/04/2018</td>\n",
              "      <td>0.0</td>\n",
              "      <td>NaN</td>\n",
              "      <td>41.0</td>\n",
              "      <td>14.0</td>\n",
              "    </tr>\n",
              "    <tr>\n",
              "      <th>19179</th>\n",
              "      <td>27/04/2018</td>\n",
              "      <td>0.0</td>\n",
              "      <td>NaN</td>\n",
              "      <td>39.0</td>\n",
              "      <td>15.0</td>\n",
              "    </tr>\n",
              "    <tr>\n",
              "      <th>19180</th>\n",
              "      <td>28/04/2018</td>\n",
              "      <td>0.0</td>\n",
              "      <td>NaN</td>\n",
              "      <td>36.0</td>\n",
              "      <td>16.0</td>\n",
              "    </tr>\n",
              "    <tr>\n",
              "      <th>19181</th>\n",
              "      <td>29/04/2018</td>\n",
              "      <td>0.0</td>\n",
              "      <td>NaN</td>\n",
              "      <td>36.0</td>\n",
              "      <td>16.0</td>\n",
              "    </tr>\n",
              "    <tr>\n",
              "      <th>19182</th>\n",
              "      <td>30/04/2018</td>\n",
              "      <td>0.0</td>\n",
              "      <td>NaN</td>\n",
              "      <td>37.0</td>\n",
              "      <td>13.0</td>\n",
              "    </tr>\n",
              "  </tbody>\n",
              "</table>\n",
              "<p>19183 rows × 5 columns</p>\n",
              "</div>"
            ],
            "text/plain": [
              "            Fecha  Precip  Evap  Tmax  Tmin\n",
              "0      01/01/1960     0.0   NaN   NaN   NaN\n",
              "1      02/01/1960     0.0   NaN   NaN   NaN\n",
              "2      03/01/1960     6.0   NaN   NaN   NaN\n",
              "3      04/01/1960    30.0   NaN   NaN   NaN\n",
              "4      05/01/1960     0.0   NaN   NaN   NaN\n",
              "...           ...     ...   ...   ...   ...\n",
              "19178  26/04/2018     0.0   NaN  41.0  14.0\n",
              "19179  27/04/2018     0.0   NaN  39.0  15.0\n",
              "19180  28/04/2018     0.0   NaN  36.0  16.0\n",
              "19181  29/04/2018     0.0   NaN  36.0  16.0\n",
              "19182  30/04/2018     0.0   NaN  37.0  13.0\n",
              "\n",
              "[19183 rows x 5 columns]"
            ]
          },
          "metadata": {
            "tags": []
          },
          "execution_count": 17
        }
      ]
    },
    {
      "cell_type": "markdown",
      "metadata": {
        "id": "av9XnkUirKmj"
      },
      "source": [
        "Cambiamos el formato de la fecha de manera que en vez de aparecer como: \"día/mes/año\", nos aparecerá como: \"año-mes-fecha\", para eso utilizamos la función **pd.to_datetime**."
      ]
    },
    {
      "cell_type": "code",
      "metadata": {
        "colab": {
          "base_uri": "https://localhost:8080/"
        },
        "id": "CMN8HYz8rK8e",
        "outputId": "6fcdaa68-8bc8-4e32-d966-21759e07c0d2"
      },
      "source": [
        "df_copiaseguridad[\"Fecha\"] = pd.to_datetime(df_copiaseguridad[\"Fecha\"], dayfirst=True ).copy()\r\n",
        "print(df_copiaseguridad.head())"
      ],
      "execution_count": 18,
      "outputs": [
        {
          "output_type": "stream",
          "text": [
            "       Fecha  Precip  Evap  Tmax  Tmin\n",
            "0 1960-01-01     0.0   NaN   NaN   NaN\n",
            "1 1960-01-02     0.0   NaN   NaN   NaN\n",
            "2 1960-01-03     6.0   NaN   NaN   NaN\n",
            "3 1960-01-04    30.0   NaN   NaN   NaN\n",
            "4 1960-01-05     0.0   NaN   NaN   NaN\n"
          ],
          "name": "stdout"
        }
      ]
    },
    {
      "cell_type": "markdown",
      "metadata": {
        "id": "J3RvKysgrOhl"
      },
      "source": [
        "Ahora, si queremos añadir las columnas de año y mes, utilizamos las funciones **df.dt.year** y **df.dt.month**, respectivamente."
      ]
    },
    {
      "cell_type": "code",
      "metadata": {
        "colab": {
          "base_uri": "https://localhost:8080/",
          "height": 404
        },
        "id": "OyE5awQ6rO4d",
        "outputId": "6bf4e7d4-5f96-4efb-c1df-9af92d41550b"
      },
      "source": [
        "#Se añaden las columnas de año y mes ademas de la de fecha\r\n",
        "df_copiaseguridad[\"Año\"] = df_copiaseguridad[\"Fecha\"].dt.year\r\n",
        "df_copiaseguridad[\"Mes\"] = df_copiaseguridad[\"Fecha\"].dt.month\r\n",
        "df_copiaseguridad"
      ],
      "execution_count": 20,
      "outputs": [
        {
          "output_type": "execute_result",
          "data": {
            "text/html": [
              "<div>\n",
              "<style scoped>\n",
              "    .dataframe tbody tr th:only-of-type {\n",
              "        vertical-align: middle;\n",
              "    }\n",
              "\n",
              "    .dataframe tbody tr th {\n",
              "        vertical-align: top;\n",
              "    }\n",
              "\n",
              "    .dataframe thead th {\n",
              "        text-align: right;\n",
              "    }\n",
              "</style>\n",
              "<table border=\"1\" class=\"dataframe\">\n",
              "  <thead>\n",
              "    <tr style=\"text-align: right;\">\n",
              "      <th></th>\n",
              "      <th>Fecha</th>\n",
              "      <th>Precip</th>\n",
              "      <th>Evap</th>\n",
              "      <th>Tmax</th>\n",
              "      <th>Tmin</th>\n",
              "      <th>Año</th>\n",
              "      <th>Mes</th>\n",
              "    </tr>\n",
              "  </thead>\n",
              "  <tbody>\n",
              "    <tr>\n",
              "      <th>0</th>\n",
              "      <td>1960-01-01</td>\n",
              "      <td>0.0</td>\n",
              "      <td>NaN</td>\n",
              "      <td>NaN</td>\n",
              "      <td>NaN</td>\n",
              "      <td>1960</td>\n",
              "      <td>1</td>\n",
              "    </tr>\n",
              "    <tr>\n",
              "      <th>1</th>\n",
              "      <td>1960-01-02</td>\n",
              "      <td>0.0</td>\n",
              "      <td>NaN</td>\n",
              "      <td>NaN</td>\n",
              "      <td>NaN</td>\n",
              "      <td>1960</td>\n",
              "      <td>1</td>\n",
              "    </tr>\n",
              "    <tr>\n",
              "      <th>2</th>\n",
              "      <td>1960-01-03</td>\n",
              "      <td>6.0</td>\n",
              "      <td>NaN</td>\n",
              "      <td>NaN</td>\n",
              "      <td>NaN</td>\n",
              "      <td>1960</td>\n",
              "      <td>1</td>\n",
              "    </tr>\n",
              "    <tr>\n",
              "      <th>3</th>\n",
              "      <td>1960-01-04</td>\n",
              "      <td>30.0</td>\n",
              "      <td>NaN</td>\n",
              "      <td>NaN</td>\n",
              "      <td>NaN</td>\n",
              "      <td>1960</td>\n",
              "      <td>1</td>\n",
              "    </tr>\n",
              "    <tr>\n",
              "      <th>4</th>\n",
              "      <td>1960-01-05</td>\n",
              "      <td>0.0</td>\n",
              "      <td>NaN</td>\n",
              "      <td>NaN</td>\n",
              "      <td>NaN</td>\n",
              "      <td>1960</td>\n",
              "      <td>1</td>\n",
              "    </tr>\n",
              "    <tr>\n",
              "      <th>...</th>\n",
              "      <td>...</td>\n",
              "      <td>...</td>\n",
              "      <td>...</td>\n",
              "      <td>...</td>\n",
              "      <td>...</td>\n",
              "      <td>...</td>\n",
              "      <td>...</td>\n",
              "    </tr>\n",
              "    <tr>\n",
              "      <th>19178</th>\n",
              "      <td>2018-04-26</td>\n",
              "      <td>0.0</td>\n",
              "      <td>NaN</td>\n",
              "      <td>41.0</td>\n",
              "      <td>14.0</td>\n",
              "      <td>2018</td>\n",
              "      <td>4</td>\n",
              "    </tr>\n",
              "    <tr>\n",
              "      <th>19179</th>\n",
              "      <td>2018-04-27</td>\n",
              "      <td>0.0</td>\n",
              "      <td>NaN</td>\n",
              "      <td>39.0</td>\n",
              "      <td>15.0</td>\n",
              "      <td>2018</td>\n",
              "      <td>4</td>\n",
              "    </tr>\n",
              "    <tr>\n",
              "      <th>19180</th>\n",
              "      <td>2018-04-28</td>\n",
              "      <td>0.0</td>\n",
              "      <td>NaN</td>\n",
              "      <td>36.0</td>\n",
              "      <td>16.0</td>\n",
              "      <td>2018</td>\n",
              "      <td>4</td>\n",
              "    </tr>\n",
              "    <tr>\n",
              "      <th>19181</th>\n",
              "      <td>2018-04-29</td>\n",
              "      <td>0.0</td>\n",
              "      <td>NaN</td>\n",
              "      <td>36.0</td>\n",
              "      <td>16.0</td>\n",
              "      <td>2018</td>\n",
              "      <td>4</td>\n",
              "    </tr>\n",
              "    <tr>\n",
              "      <th>19182</th>\n",
              "      <td>2018-04-30</td>\n",
              "      <td>0.0</td>\n",
              "      <td>NaN</td>\n",
              "      <td>37.0</td>\n",
              "      <td>13.0</td>\n",
              "      <td>2018</td>\n",
              "      <td>4</td>\n",
              "    </tr>\n",
              "  </tbody>\n",
              "</table>\n",
              "<p>19183 rows × 7 columns</p>\n",
              "</div>"
            ],
            "text/plain": [
              "           Fecha  Precip  Evap  Tmax  Tmin   Año  Mes\n",
              "0     1960-01-01     0.0   NaN   NaN   NaN  1960    1\n",
              "1     1960-01-02     0.0   NaN   NaN   NaN  1960    1\n",
              "2     1960-01-03     6.0   NaN   NaN   NaN  1960    1\n",
              "3     1960-01-04    30.0   NaN   NaN   NaN  1960    1\n",
              "4     1960-01-05     0.0   NaN   NaN   NaN  1960    1\n",
              "...          ...     ...   ...   ...   ...   ...  ...\n",
              "19178 2018-04-26     0.0   NaN  41.0  14.0  2018    4\n",
              "19179 2018-04-27     0.0   NaN  39.0  15.0  2018    4\n",
              "19180 2018-04-28     0.0   NaN  36.0  16.0  2018    4\n",
              "19181 2018-04-29     0.0   NaN  36.0  16.0  2018    4\n",
              "19182 2018-04-30     0.0   NaN  37.0  13.0  2018    4\n",
              "\n",
              "[19183 rows x 7 columns]"
            ]
          },
          "metadata": {
            "tags": []
          },
          "execution_count": 20
        }
      ]
    },
    {
      "cell_type": "code",
      "metadata": {
        "colab": {
          "base_uri": "https://localhost:8080/"
        },
        "id": "o5mtzCmSrUT1",
        "outputId": "d6d7236d-a1b0-4157-dbd7-61fc5c695ea1"
      },
      "source": [
        "# Para verificar\r\n",
        "print(df_copiaseguridad.head())\r\n",
        "print(df_copiaseguridad.tail())\r\n",
        "print(df_copiaseguridad.dtypes)"
      ],
      "execution_count": 21,
      "outputs": [
        {
          "output_type": "stream",
          "text": [
            "       Fecha  Precip  Evap  Tmax  Tmin   Año  Mes\n",
            "0 1960-01-01     0.0   NaN   NaN   NaN  1960    1\n",
            "1 1960-01-02     0.0   NaN   NaN   NaN  1960    1\n",
            "2 1960-01-03     6.0   NaN   NaN   NaN  1960    1\n",
            "3 1960-01-04    30.0   NaN   NaN   NaN  1960    1\n",
            "4 1960-01-05     0.0   NaN   NaN   NaN  1960    1\n",
            "           Fecha  Precip  Evap  Tmax  Tmin   Año  Mes\n",
            "19178 2018-04-26     0.0   NaN  41.0  14.0  2018    4\n",
            "19179 2018-04-27     0.0   NaN  39.0  15.0  2018    4\n",
            "19180 2018-04-28     0.0   NaN  36.0  16.0  2018    4\n",
            "19181 2018-04-29     0.0   NaN  36.0  16.0  2018    4\n",
            "19182 2018-04-30     0.0   NaN  37.0  13.0  2018    4\n",
            "Fecha     datetime64[ns]\n",
            "Precip           float64\n",
            "Evap             float64\n",
            "Tmax             float64\n",
            "Tmin             float64\n",
            "Año                int64\n",
            "Mes                int64\n",
            "dtype: object\n"
          ],
          "name": "stdout"
        }
      ]
    }
  ]
}